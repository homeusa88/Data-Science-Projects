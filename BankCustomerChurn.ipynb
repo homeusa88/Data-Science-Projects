{
 "cells": [
  {
   "cell_type": "markdown",
   "id": "d77a8f39",
   "metadata": {},
   "source": [
    "Data Science Project #1: Bank Customer Churn Analysis using a Classification Model\n",
    "Goal: Get back into Python and learn about different classification ML models\n",
    "Models Used: RandomForestClassifier, SVM, KNN"
   ]
  },
  {
   "cell_type": "code",
   "execution_count": 60,
   "id": "6c2d48b1",
   "metadata": {},
   "outputs": [],
   "source": [
    "import os\n",
    "import pandas as pd \n",
    "import numpy as np\n",
    "\n",
    "#for data processing and testing\n",
    "from sklearn.preprocessing import OneHotEncoder\n",
    "from sklearn.model_selection import train_test_split\n",
    "\n",
    "#importing models\n",
    "from sklearn.ensemble import RandomForestClassifier\n",
    "\n",
    "#importing performance KPIs\n",
    "from sklearn.metrics import accuracy_score, precision_score, confusion_matrix, recall_score, f1_score"
   ]
  },
  {
   "cell_type": "code",
   "execution_count": 24,
   "id": "6292c54e",
   "metadata": {},
   "outputs": [],
   "source": [
    "#Set working directory\n",
    "os.chdir('/Users/michaelyoo/Documents/Projects/Python Projects/Bank Customer Churn Project')"
   ]
  },
  {
   "cell_type": "code",
   "execution_count": 43,
   "id": "b67b252c",
   "metadata": {},
   "outputs": [
    {
     "name": "stdout",
     "output_type": "stream",
     "text": [
      "   RowNumber  CustomerId   Surname  CreditScore Geography  Gender  Age  \\\n",
      "0          1    15634602  Hargrave          619    France  Female   42   \n",
      "1          2    15647311      Hill          608     Spain  Female   41   \n",
      "2          3    15619304      Onio          502    France  Female   42   \n",
      "3          4    15701354      Boni          699    France  Female   39   \n",
      "4          5    15737888  Mitchell          850     Spain  Female   43   \n",
      "5          6    15574012       Chu          645     Spain    Male   44   \n",
      "6          7    15592531  Bartlett          822    France    Male   50   \n",
      "7          8    15656148    Obinna          376   Germany  Female   29   \n",
      "8          9    15792365        He          501    France    Male   44   \n",
      "9         10    15592389        H?          684    France    Male   27   \n",
      "\n",
      "   Tenure    Balance  NumOfProducts  HasCrCard  IsActiveMember  \\\n",
      "0       2       0.00              1          1               1   \n",
      "1       1   83807.86              1          0               1   \n",
      "2       8  159660.80              3          1               0   \n",
      "3       1       0.00              2          0               0   \n",
      "4       2  125510.82              1          1               1   \n",
      "5       8  113755.78              2          1               0   \n",
      "6       7       0.00              2          1               1   \n",
      "7       4  115046.74              4          1               0   \n",
      "8       4  142051.07              2          0               1   \n",
      "9       2  134603.88              1          1               1   \n",
      "\n",
      "   EstimatedSalary  Exited  \n",
      "0        101348.88       1  \n",
      "1        112542.58       0  \n",
      "2        113931.57       1  \n",
      "3         93826.63       0  \n",
      "4         79084.10       0  \n",
      "5        149756.71       1  \n",
      "6         10062.80       0  \n",
      "7        119346.88       1  \n",
      "8         74940.50       0  \n",
      "9         71725.73       0  \n",
      "   CreditScore  Age  Tenure    Balance  NumOfProducts  HasCrCard  \\\n",
      "0          619   42       2       0.00              1          1   \n",
      "1          608   41       1   83807.86              1          0   \n",
      "2          502   42       8  159660.80              3          1   \n",
      "3          699   39       1       0.00              2          0   \n",
      "4          850   43       2  125510.82              1          1   \n",
      "\n",
      "   IsActiveMember  EstimatedSalary  Exited  Gender_Male  Geography_Germany  \\\n",
      "0               1        101348.88       1        False              False   \n",
      "1               1        112542.58       0        False              False   \n",
      "2               0        113931.57       1        False              False   \n",
      "3               0         93826.63       0        False              False   \n",
      "4               1         79084.10       0        False              False   \n",
      "\n",
      "   Geography_Spain  \n",
      "0            False  \n",
      "1             True  \n",
      "2            False  \n",
      "3            False  \n",
      "4             True  \n"
     ]
    }
   ],
   "source": [
    "#Read in data\n",
    "df = pd.read_csv(\"Churn_Modeling.csv\")\n",
    "print(df.head(10))\n",
    "\n",
    "#Get rid of junk columns\n",
    "df = df.drop([\"RowNumber\", \"CustomerId\", \"Surname\"], axis = 1)\n",
    "\n",
    "#One Hot Encode categorical variables to add them as features, drop first to prevent multicollinearity\n",
    "df_encoded = pd.get_dummies(df, columns = ['Gender', 'Geography'], drop_first=True)\n",
    "\n",
    "print(df_encoded.head())\n",
    "df = df_encoded"
   ]
  },
  {
   "cell_type": "code",
   "execution_count": 56,
   "id": "f70b56f8",
   "metadata": {},
   "outputs": [],
   "source": [
    "#Set y and X\n",
    "y = df[\"Exited\"]\n",
    "x = df.drop(\"Exited\", axis = 1)\n",
    "\n",
    "#Split data into training and test set\n",
    "x_train, x_test, y_train, y_test = train_test_split(x,y,train_size=0.70,random_state=42)"
   ]
  },
  {
   "cell_type": "code",
   "execution_count": 68,
   "id": "990af18e",
   "metadata": {},
   "outputs": [
    {
     "name": "stdout",
     "output_type": "stream",
     "text": [
      "Confusion Matrix:\n",
      " [[2331   85]\n",
      " [ 309  275]]\n",
      "Accuracy: 0.8686666666666667\n",
      "Precision: 0.7638888888888888\n",
      "Recall: 0.4708904109589041\n",
      "F1 Score: 0.5826271186440678\n"
     ]
    }
   ],
   "source": [
    "#Random Forest Classifier\n",
    "model = RandomForestClassifier()\n",
    "model.fit(x_train,y_train)\n",
    "y_pred = model.predict(x_test)\n",
    "model.score(x_test, y_test)\n",
    "\n",
    "# Counts of true/false positives and negatives\n",
    "cm = confusion_matrix(y_test, y_pred)\n",
    "print(\"Confusion Matrix:\\n\", cm)\n",
    "\n",
    "# Overall correctness of the model\n",
    "accuracy = accuracy_score(y_test, y_pred)\n",
    "print(\"Accuracy:\", accuracy)\n",
    "\n",
    "# Out of predicted positives, how many are correct\n",
    "precision = precision_score(y_test, y_pred, average='binary')\n",
    "print(\"Precision:\", precision)\n",
    "\n",
    "# Out of actual positives, how many did the model detect\n",
    "recall = recall_score(y_test, y_pred, average='binary')\n",
    "print(\"Recall:\", recall)\n",
    "\n",
    "# Harmonic mean of precision and recall, balancing both\n",
    "f1 = f1_score(y_test, y_pred, average='binary')\n",
    "print(\"F1 Score:\", f1)"
   ]
  }
 ],
 "metadata": {
  "kernelspec": {
   "display_name": "base",
   "language": "python",
   "name": "python3"
  },
  "language_info": {
   "codemirror_mode": {
    "name": "ipython",
    "version": 3
   },
   "file_extension": ".py",
   "mimetype": "text/x-python",
   "name": "python",
   "nbconvert_exporter": "python",
   "pygments_lexer": "ipython3",
   "version": "3.12.7"
  }
 },
 "nbformat": 4,
 "nbformat_minor": 5
}
